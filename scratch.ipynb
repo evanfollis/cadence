{
 "cells": [
  {
   "cell_type": "code",
   "execution_count": 7,
   "id": "c72c9772",
   "metadata": {},
   "outputs": [],
   "source": [
    "import scripts.auto_generate_patches as agp\n",
    "import tiktoken\n",
    "import json"
   ]
  },
  {
   "cell_type": "code",
   "execution_count": 6,
   "id": "84bd5477",
   "metadata": {},
   "outputs": [
    {
     "data": {
      "text/plain": [
       "44153"
      ]
     },
     "execution_count": 6,
     "metadata": {},
     "output_type": "execute_result"
    }
   ],
   "source": [
    "enc = tiktoken.get_encoding(\"o200k_base\")\n",
    "num_tokens = len(enc.encode(agp.base_prompt))\n",
    "num_tokens"
   ]
  },
  {
   "cell_type": "code",
   "execution_count": 8,
   "id": "beacce61",
   "metadata": {},
   "outputs": [],
   "source": [
    "with open('dev_backlog.json', 'r') as f:\n",
    "    backlog = json.load(f)"
   ]
  },
  {
   "cell_type": "code",
   "execution_count": null,
   "id": "269a17da",
   "metadata": {},
   "outputs": [
    {
     "data": {
      "text/plain": [
       "7"
      ]
     },
     "execution_count": 10,
     "metadata": {},
     "output_type": "execute_result"
    }
   ],
   "source": [
    "[x for x in backlog for k,v in x.itmes()]"
   ]
  },
  {
   "cell_type": "code",
   "execution_count": 12,
   "id": "77231b8f",
   "metadata": {},
   "outputs": [],
   "source": [
    "dev_backlog = [{k:v for k,v in x.items() if k not in ['diff', 'patch', 'generated_patch']} for x in backlog]"
   ]
  },
  {
   "cell_type": "code",
   "execution_count": 13,
   "id": "148410e3",
   "metadata": {},
   "outputs": [],
   "source": [
    "with open('dev_backlog.json', 'w') as f:\n",
    "    json.dump(dev_backlog, f, indent=2)"
   ]
  },
  {
   "cell_type": "code",
   "execution_count": null,
   "id": "2b87c192",
   "metadata": {},
   "outputs": [],
   "source": []
  }
 ],
 "metadata": {
  "kernelspec": {
   "display_name": "cadence",
   "language": "python",
   "name": "python3"
  },
  "language_info": {
   "codemirror_mode": {
    "name": "ipython",
    "version": 3
   },
   "file_extension": ".py",
   "mimetype": "text/x-python",
   "name": "python",
   "nbconvert_exporter": "python",
   "pygments_lexer": "ipython3",
   "version": "3.12.11"
  }
 },
 "nbformat": 4,
 "nbformat_minor": 5
}
